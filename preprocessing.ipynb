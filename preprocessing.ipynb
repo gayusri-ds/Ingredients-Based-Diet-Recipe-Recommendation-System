{
  "nbformat": 4,
  "nbformat_minor": 0,
  "metadata": {
    "colab": {
      "provenance": []
    },
    "kernelspec": {
      "name": "python3",
      "display_name": "Python 3"
    },
    "language_info": {
      "name": "python"
    }
  },
  "cells": [
    {
      "cell_type": "markdown",
      "source": [
        "# **PREPROCESSING STEPS**"
      ],
      "metadata": {
        "id": "DZ8QWA-bJPKj"
      }
    },
    {
      "cell_type": "code",
      "execution_count": 1,
      "metadata": {
        "id": "HQSvVK1pJNVv"
      },
      "outputs": [],
      "source": [
        "# Importing the required libraries\n",
        "\n",
        "import pandas as pd\n",
        "import numpy as np\n",
        "import string\n",
        "import nltk\n",
        "import re"
      ]
    },
    {
      "cell_type": "code",
      "source": [
        "# Importing the dataset\n",
        "\n",
        "data = pd.read_excel('/content/drive/MyDrive/MY PROJECTS/Indian Food Diet Chart chatbots/6000+ Indian Food Recipes Dataset/IndianFoodDatasetXLS.xlsx')"
      ],
      "metadata": {
        "id": "MRHeu0KLJ07C"
      },
      "execution_count": 2,
      "outputs": []
    },
    {
      "cell_type": "code",
      "source": [
        "data = data.drop(columns = {'Srno', 'Ingredients', 'RecipeName'})"
      ],
      "metadata": {
        "id": "gLn1VUkrKMJB"
      },
      "execution_count": 3,
      "outputs": []
    },
    {
      "cell_type": "code",
      "source": [
        "data.info()   # Basic information"
      ],
      "metadata": {
        "colab": {
          "base_uri": "https://localhost:8080/"
        },
        "id": "tp0-Vyi2J-p6",
        "outputId": "4754a0da-efb2-4370-e3df-038900297173"
      },
      "execution_count": 4,
      "outputs": [
        {
          "output_type": "stream",
          "name": "stdout",
          "text": [
            "<class 'pandas.core.frame.DataFrame'>\n",
            "RangeIndex: 6871 entries, 0 to 6870\n",
            "Data columns (total 11 columns):\n",
            " #   Column                  Non-Null Count  Dtype \n",
            "---  ------                  --------------  ----- \n",
            " 0   TranslatedRecipeName    6871 non-null   object\n",
            " 1   TranslatedIngredients   6865 non-null   object\n",
            " 2   PrepTimeInMins          6871 non-null   int64 \n",
            " 3   CookTimeInMins          6871 non-null   int64 \n",
            " 4   TotalTimeInMins         6871 non-null   int64 \n",
            " 5   Servings                6871 non-null   int64 \n",
            " 6   Cuisine                 6871 non-null   object\n",
            " 7   Course                  6871 non-null   object\n",
            " 8   Diet                    6871 non-null   object\n",
            " 9   TranslatedInstructions  6871 non-null   object\n",
            " 10  URL                     6871 non-null   object\n",
            "dtypes: int64(4), object(7)\n",
            "memory usage: 590.6+ KB\n"
          ]
        }
      ]
    },
    {
      "cell_type": "code",
      "source": [
        "data.describe()     # Basic statistics"
      ],
      "metadata": {
        "colab": {
          "base_uri": "https://localhost:8080/",
          "height": 300
        },
        "id": "xtDZNzOlKUB-",
        "outputId": "2bb3bb9d-e7dd-44a0-f2fd-2ca9718f835e"
      },
      "execution_count": 5,
      "outputs": [
        {
          "output_type": "execute_result",
          "data": {
            "text/plain": [
              "       PrepTimeInMins  CookTimeInMins  TotalTimeInMins     Servings\n",
              "count     6871.000000     6871.000000      6871.000000  6871.000000\n",
              "mean        28.585213       30.832339        59.417552     5.611410\n",
              "std         81.042007       34.019694        88.699940    26.221807\n",
              "min          0.000000        0.000000         0.000000     1.000000\n",
              "25%         10.000000       20.000000        30.000000     4.000000\n",
              "50%         15.000000       30.000000        40.000000     4.000000\n",
              "75%         20.000000       35.000000        55.000000     4.000000\n",
              "max       2880.000000      900.000000      2925.000000  1000.000000"
            ],
            "text/html": [
              "\n",
              "  <div id=\"df-199fe036-dfc7-4b01-95d0-6bdf8ec6fbd7\" class=\"colab-df-container\">\n",
              "    <div>\n",
              "<style scoped>\n",
              "    .dataframe tbody tr th:only-of-type {\n",
              "        vertical-align: middle;\n",
              "    }\n",
              "\n",
              "    .dataframe tbody tr th {\n",
              "        vertical-align: top;\n",
              "    }\n",
              "\n",
              "    .dataframe thead th {\n",
              "        text-align: right;\n",
              "    }\n",
              "</style>\n",
              "<table border=\"1\" class=\"dataframe\">\n",
              "  <thead>\n",
              "    <tr style=\"text-align: right;\">\n",
              "      <th></th>\n",
              "      <th>PrepTimeInMins</th>\n",
              "      <th>CookTimeInMins</th>\n",
              "      <th>TotalTimeInMins</th>\n",
              "      <th>Servings</th>\n",
              "    </tr>\n",
              "  </thead>\n",
              "  <tbody>\n",
              "    <tr>\n",
              "      <th>count</th>\n",
              "      <td>6871.000000</td>\n",
              "      <td>6871.000000</td>\n",
              "      <td>6871.000000</td>\n",
              "      <td>6871.000000</td>\n",
              "    </tr>\n",
              "    <tr>\n",
              "      <th>mean</th>\n",
              "      <td>28.585213</td>\n",
              "      <td>30.832339</td>\n",
              "      <td>59.417552</td>\n",
              "      <td>5.611410</td>\n",
              "    </tr>\n",
              "    <tr>\n",
              "      <th>std</th>\n",
              "      <td>81.042007</td>\n",
              "      <td>34.019694</td>\n",
              "      <td>88.699940</td>\n",
              "      <td>26.221807</td>\n",
              "    </tr>\n",
              "    <tr>\n",
              "      <th>min</th>\n",
              "      <td>0.000000</td>\n",
              "      <td>0.000000</td>\n",
              "      <td>0.000000</td>\n",
              "      <td>1.000000</td>\n",
              "    </tr>\n",
              "    <tr>\n",
              "      <th>25%</th>\n",
              "      <td>10.000000</td>\n",
              "      <td>20.000000</td>\n",
              "      <td>30.000000</td>\n",
              "      <td>4.000000</td>\n",
              "    </tr>\n",
              "    <tr>\n",
              "      <th>50%</th>\n",
              "      <td>15.000000</td>\n",
              "      <td>30.000000</td>\n",
              "      <td>40.000000</td>\n",
              "      <td>4.000000</td>\n",
              "    </tr>\n",
              "    <tr>\n",
              "      <th>75%</th>\n",
              "      <td>20.000000</td>\n",
              "      <td>35.000000</td>\n",
              "      <td>55.000000</td>\n",
              "      <td>4.000000</td>\n",
              "    </tr>\n",
              "    <tr>\n",
              "      <th>max</th>\n",
              "      <td>2880.000000</td>\n",
              "      <td>900.000000</td>\n",
              "      <td>2925.000000</td>\n",
              "      <td>1000.000000</td>\n",
              "    </tr>\n",
              "  </tbody>\n",
              "</table>\n",
              "</div>\n",
              "    <div class=\"colab-df-buttons\">\n",
              "\n",
              "  <div class=\"colab-df-container\">\n",
              "    <button class=\"colab-df-convert\" onclick=\"convertToInteractive('df-199fe036-dfc7-4b01-95d0-6bdf8ec6fbd7')\"\n",
              "            title=\"Convert this dataframe to an interactive table.\"\n",
              "            style=\"display:none;\">\n",
              "\n",
              "  <svg xmlns=\"http://www.w3.org/2000/svg\" height=\"24px\" viewBox=\"0 -960 960 960\">\n",
              "    <path d=\"M120-120v-720h720v720H120Zm60-500h600v-160H180v160Zm220 220h160v-160H400v160Zm0 220h160v-160H400v160ZM180-400h160v-160H180v160Zm440 0h160v-160H620v160ZM180-180h160v-160H180v160Zm440 0h160v-160H620v160Z\"/>\n",
              "  </svg>\n",
              "    </button>\n",
              "\n",
              "  <style>\n",
              "    .colab-df-container {\n",
              "      display:flex;\n",
              "      gap: 12px;\n",
              "    }\n",
              "\n",
              "    .colab-df-convert {\n",
              "      background-color: #E8F0FE;\n",
              "      border: none;\n",
              "      border-radius: 50%;\n",
              "      cursor: pointer;\n",
              "      display: none;\n",
              "      fill: #1967D2;\n",
              "      height: 32px;\n",
              "      padding: 0 0 0 0;\n",
              "      width: 32px;\n",
              "    }\n",
              "\n",
              "    .colab-df-convert:hover {\n",
              "      background-color: #E2EBFA;\n",
              "      box-shadow: 0px 1px 2px rgba(60, 64, 67, 0.3), 0px 1px 3px 1px rgba(60, 64, 67, 0.15);\n",
              "      fill: #174EA6;\n",
              "    }\n",
              "\n",
              "    .colab-df-buttons div {\n",
              "      margin-bottom: 4px;\n",
              "    }\n",
              "\n",
              "    [theme=dark] .colab-df-convert {\n",
              "      background-color: #3B4455;\n",
              "      fill: #D2E3FC;\n",
              "    }\n",
              "\n",
              "    [theme=dark] .colab-df-convert:hover {\n",
              "      background-color: #434B5C;\n",
              "      box-shadow: 0px 1px 3px 1px rgba(0, 0, 0, 0.15);\n",
              "      filter: drop-shadow(0px 1px 2px rgba(0, 0, 0, 0.3));\n",
              "      fill: #FFFFFF;\n",
              "    }\n",
              "  </style>\n",
              "\n",
              "    <script>\n",
              "      const buttonEl =\n",
              "        document.querySelector('#df-199fe036-dfc7-4b01-95d0-6bdf8ec6fbd7 button.colab-df-convert');\n",
              "      buttonEl.style.display =\n",
              "        google.colab.kernel.accessAllowed ? 'block' : 'none';\n",
              "\n",
              "      async function convertToInteractive(key) {\n",
              "        const element = document.querySelector('#df-199fe036-dfc7-4b01-95d0-6bdf8ec6fbd7');\n",
              "        const dataTable =\n",
              "          await google.colab.kernel.invokeFunction('convertToInteractive',\n",
              "                                                    [key], {});\n",
              "        if (!dataTable) return;\n",
              "\n",
              "        const docLinkHtml = 'Like what you see? Visit the ' +\n",
              "          '<a target=\"_blank\" href=https://colab.research.google.com/notebooks/data_table.ipynb>data table notebook</a>'\n",
              "          + ' to learn more about interactive tables.';\n",
              "        element.innerHTML = '';\n",
              "        dataTable['output_type'] = 'display_data';\n",
              "        await google.colab.output.renderOutput(dataTable, element);\n",
              "        const docLink = document.createElement('div');\n",
              "        docLink.innerHTML = docLinkHtml;\n",
              "        element.appendChild(docLink);\n",
              "      }\n",
              "    </script>\n",
              "  </div>\n",
              "\n",
              "\n",
              "<div id=\"df-57ab0f99-b9cf-40fa-8a6d-9c32992d95bc\">\n",
              "  <button class=\"colab-df-quickchart\" onclick=\"quickchart('df-57ab0f99-b9cf-40fa-8a6d-9c32992d95bc')\"\n",
              "            title=\"Suggest charts\"\n",
              "            style=\"display:none;\">\n",
              "\n",
              "<svg xmlns=\"http://www.w3.org/2000/svg\" height=\"24px\"viewBox=\"0 0 24 24\"\n",
              "     width=\"24px\">\n",
              "    <g>\n",
              "        <path d=\"M19 3H5c-1.1 0-2 .9-2 2v14c0 1.1.9 2 2 2h14c1.1 0 2-.9 2-2V5c0-1.1-.9-2-2-2zM9 17H7v-7h2v7zm4 0h-2V7h2v10zm4 0h-2v-4h2v4z\"/>\n",
              "    </g>\n",
              "</svg>\n",
              "  </button>\n",
              "\n",
              "<style>\n",
              "  .colab-df-quickchart {\n",
              "      --bg-color: #E8F0FE;\n",
              "      --fill-color: #1967D2;\n",
              "      --hover-bg-color: #E2EBFA;\n",
              "      --hover-fill-color: #174EA6;\n",
              "      --disabled-fill-color: #AAA;\n",
              "      --disabled-bg-color: #DDD;\n",
              "  }\n",
              "\n",
              "  [theme=dark] .colab-df-quickchart {\n",
              "      --bg-color: #3B4455;\n",
              "      --fill-color: #D2E3FC;\n",
              "      --hover-bg-color: #434B5C;\n",
              "      --hover-fill-color: #FFFFFF;\n",
              "      --disabled-bg-color: #3B4455;\n",
              "      --disabled-fill-color: #666;\n",
              "  }\n",
              "\n",
              "  .colab-df-quickchart {\n",
              "    background-color: var(--bg-color);\n",
              "    border: none;\n",
              "    border-radius: 50%;\n",
              "    cursor: pointer;\n",
              "    display: none;\n",
              "    fill: var(--fill-color);\n",
              "    height: 32px;\n",
              "    padding: 0;\n",
              "    width: 32px;\n",
              "  }\n",
              "\n",
              "  .colab-df-quickchart:hover {\n",
              "    background-color: var(--hover-bg-color);\n",
              "    box-shadow: 0 1px 2px rgba(60, 64, 67, 0.3), 0 1px 3px 1px rgba(60, 64, 67, 0.15);\n",
              "    fill: var(--button-hover-fill-color);\n",
              "  }\n",
              "\n",
              "  .colab-df-quickchart-complete:disabled,\n",
              "  .colab-df-quickchart-complete:disabled:hover {\n",
              "    background-color: var(--disabled-bg-color);\n",
              "    fill: var(--disabled-fill-color);\n",
              "    box-shadow: none;\n",
              "  }\n",
              "\n",
              "  .colab-df-spinner {\n",
              "    border: 2px solid var(--fill-color);\n",
              "    border-color: transparent;\n",
              "    border-bottom-color: var(--fill-color);\n",
              "    animation:\n",
              "      spin 1s steps(1) infinite;\n",
              "  }\n",
              "\n",
              "  @keyframes spin {\n",
              "    0% {\n",
              "      border-color: transparent;\n",
              "      border-bottom-color: var(--fill-color);\n",
              "      border-left-color: var(--fill-color);\n",
              "    }\n",
              "    20% {\n",
              "      border-color: transparent;\n",
              "      border-left-color: var(--fill-color);\n",
              "      border-top-color: var(--fill-color);\n",
              "    }\n",
              "    30% {\n",
              "      border-color: transparent;\n",
              "      border-left-color: var(--fill-color);\n",
              "      border-top-color: var(--fill-color);\n",
              "      border-right-color: var(--fill-color);\n",
              "    }\n",
              "    40% {\n",
              "      border-color: transparent;\n",
              "      border-right-color: var(--fill-color);\n",
              "      border-top-color: var(--fill-color);\n",
              "    }\n",
              "    60% {\n",
              "      border-color: transparent;\n",
              "      border-right-color: var(--fill-color);\n",
              "    }\n",
              "    80% {\n",
              "      border-color: transparent;\n",
              "      border-right-color: var(--fill-color);\n",
              "      border-bottom-color: var(--fill-color);\n",
              "    }\n",
              "    90% {\n",
              "      border-color: transparent;\n",
              "      border-bottom-color: var(--fill-color);\n",
              "    }\n",
              "  }\n",
              "</style>\n",
              "\n",
              "  <script>\n",
              "    async function quickchart(key) {\n",
              "      const quickchartButtonEl =\n",
              "        document.querySelector('#' + key + ' button');\n",
              "      quickchartButtonEl.disabled = true;  // To prevent multiple clicks.\n",
              "      quickchartButtonEl.classList.add('colab-df-spinner');\n",
              "      try {\n",
              "        const charts = await google.colab.kernel.invokeFunction(\n",
              "            'suggestCharts', [key], {});\n",
              "      } catch (error) {\n",
              "        console.error('Error during call to suggestCharts:', error);\n",
              "      }\n",
              "      quickchartButtonEl.classList.remove('colab-df-spinner');\n",
              "      quickchartButtonEl.classList.add('colab-df-quickchart-complete');\n",
              "    }\n",
              "    (() => {\n",
              "      let quickchartButtonEl =\n",
              "        document.querySelector('#df-57ab0f99-b9cf-40fa-8a6d-9c32992d95bc button');\n",
              "      quickchartButtonEl.style.display =\n",
              "        google.colab.kernel.accessAllowed ? 'block' : 'none';\n",
              "    })();\n",
              "  </script>\n",
              "</div>\n",
              "\n",
              "    </div>\n",
              "  </div>\n"
            ],
            "application/vnd.google.colaboratory.intrinsic+json": {
              "type": "dataframe",
              "summary": "{\n  \"name\": \"data\",\n  \"rows\": 8,\n  \"fields\": [\n    {\n      \"column\": \"PrepTimeInMins\",\n      \"properties\": {\n        \"dtype\": \"number\",\n        \"std\": 2485.614887769654,\n        \"min\": 0.0,\n        \"max\": 6871.0,\n        \"num_unique_values\": 8,\n        \"samples\": [\n          28.58521321496143,\n          15.0,\n          6871.0\n        ],\n        \"semantic_type\": \"\",\n        \"description\": \"\"\n      }\n    },\n    {\n      \"column\": \"CookTimeInMins\",\n      \"properties\": {\n        \"dtype\": \"number\",\n        \"std\": 2395.9127952536132,\n        \"min\": 0.0,\n        \"max\": 6871.0,\n        \"num_unique_values\": 8,\n        \"samples\": [\n          30.832338815310727,\n          30.0,\n          6871.0\n        ],\n        \"semantic_type\": \"\",\n        \"description\": \"\"\n      }\n    },\n    {\n      \"column\": \"TotalTimeInMins\",\n      \"properties\": {\n        \"dtype\": \"number\",\n        \"std\": 2481.641111429547,\n        \"min\": 0.0,\n        \"max\": 6871.0,\n        \"num_unique_values\": 8,\n        \"samples\": [\n          59.417552030272155,\n          40.0,\n          6871.0\n        ],\n        \"semantic_type\": \"\",\n        \"description\": \"\"\n      }\n    },\n    {\n      \"column\": \"Servings\",\n      \"properties\": {\n        \"dtype\": \"number\",\n        \"std\": 2401.75106149879,\n        \"min\": 1.0,\n        \"max\": 6871.0,\n        \"num_unique_values\": 6,\n        \"samples\": [\n          6871.0,\n          5.611410275069131,\n          1000.0\n        ],\n        \"semantic_type\": \"\",\n        \"description\": \"\"\n      }\n    }\n  ]\n}"
            }
          },
          "metadata": {},
          "execution_count": 5
        }
      ]
    },
    {
      "cell_type": "code",
      "source": [
        "data.dtypes"
      ],
      "metadata": {
        "colab": {
          "base_uri": "https://localhost:8080/"
        },
        "id": "oko_L4FiKlMA",
        "outputId": "e40f7a3e-4cac-4a7d-b175-17ad127d8d86"
      },
      "execution_count": 6,
      "outputs": [
        {
          "output_type": "execute_result",
          "data": {
            "text/plain": [
              "TranslatedRecipeName      object\n",
              "TranslatedIngredients     object\n",
              "PrepTimeInMins             int64\n",
              "CookTimeInMins             int64\n",
              "TotalTimeInMins            int64\n",
              "Servings                   int64\n",
              "Cuisine                   object\n",
              "Course                    object\n",
              "Diet                      object\n",
              "TranslatedInstructions    object\n",
              "URL                       object\n",
              "dtype: object"
            ]
          },
          "metadata": {},
          "execution_count": 6
        }
      ]
    },
    {
      "cell_type": "code",
      "source": [
        "data.shape"
      ],
      "metadata": {
        "colab": {
          "base_uri": "https://localhost:8080/"
        },
        "id": "T2ixMAMRL30f",
        "outputId": "b9841886-42f3-4bed-b042-cac3e1dc549f"
      },
      "execution_count": 7,
      "outputs": [
        {
          "output_type": "execute_result",
          "data": {
            "text/plain": [
              "(6871, 11)"
            ]
          },
          "metadata": {},
          "execution_count": 7
        }
      ]
    },
    {
      "cell_type": "code",
      "source": [
        "# Checking whether null values present or not\n",
        "\n",
        "data.isnull().sum()                # Null values present"
      ],
      "metadata": {
        "colab": {
          "base_uri": "https://localhost:8080/"
        },
        "id": "HKqO-keFKox5",
        "outputId": "363803e5-5481-41f0-e710-8c607d76181a"
      },
      "execution_count": 8,
      "outputs": [
        {
          "output_type": "execute_result",
          "data": {
            "text/plain": [
              "TranslatedRecipeName      0\n",
              "TranslatedIngredients     6\n",
              "PrepTimeInMins            0\n",
              "CookTimeInMins            0\n",
              "TotalTimeInMins           0\n",
              "Servings                  0\n",
              "Cuisine                   0\n",
              "Course                    0\n",
              "Diet                      0\n",
              "TranslatedInstructions    0\n",
              "URL                       0\n",
              "dtype: int64"
            ]
          },
          "metadata": {},
          "execution_count": 8
        }
      ]
    },
    {
      "cell_type": "code",
      "source": [
        "data = data.dropna()     # Drop the null values"
      ],
      "metadata": {
        "id": "hqFI650FKvuZ"
      },
      "execution_count": 9,
      "outputs": []
    },
    {
      "cell_type": "code",
      "source": [
        "data.isnull().sum()      # Again checking null values"
      ],
      "metadata": {
        "colab": {
          "base_uri": "https://localhost:8080/"
        },
        "id": "c-kMR-Y9K9Z-",
        "outputId": "d7f8a9e0-cb4d-4c3a-b870-eb43a132e6b0"
      },
      "execution_count": 10,
      "outputs": [
        {
          "output_type": "execute_result",
          "data": {
            "text/plain": [
              "TranslatedRecipeName      0\n",
              "TranslatedIngredients     0\n",
              "PrepTimeInMins            0\n",
              "CookTimeInMins            0\n",
              "TotalTimeInMins           0\n",
              "Servings                  0\n",
              "Cuisine                   0\n",
              "Course                    0\n",
              "Diet                      0\n",
              "TranslatedInstructions    0\n",
              "URL                       0\n",
              "dtype: int64"
            ]
          },
          "metadata": {},
          "execution_count": 10
        }
      ]
    },
    {
      "cell_type": "code",
      "source": [
        "# Checking whether duplicates present or not\n",
        "\n",
        "data.duplicated().sum()                 # No duplicates present"
      ],
      "metadata": {
        "colab": {
          "base_uri": "https://localhost:8080/"
        },
        "id": "1VqZfcrPLBU_",
        "outputId": "1d24e70a-e67d-4d7b-c969-67ae512fea47"
      },
      "execution_count": 11,
      "outputs": [
        {
          "output_type": "execute_result",
          "data": {
            "text/plain": [
              "0"
            ]
          },
          "metadata": {},
          "execution_count": 11
        }
      ]
    },
    {
      "cell_type": "code",
      "source": [
        "# Define the preprocess step\n",
        "\n",
        "def preprocess_text(text):\n",
        "  text = text.lower()\n",
        "  text = re.sub(r'[^a-zA-Z0-9]', ' ', text)\n",
        "  return text"
      ],
      "metadata": {
        "id": "z2Ik08CtL9oN"
      },
      "execution_count": 12,
      "outputs": []
    },
    {
      "cell_type": "code",
      "source": [
        "data['TranslatedRecipeName'] = data['TranslatedRecipeName'].apply(preprocess_text)\n",
        "data['Cuisine'] = data['Cuisine'].apply(preprocess_text)\n",
        "data['Course'] = data['Course'].apply(preprocess_text)\n",
        "data['Diet'] = data['Diet'].apply(preprocess_text)"
      ],
      "metadata": {
        "id": "eEzpqeI9M2H8"
      },
      "execution_count": 13,
      "outputs": []
    },
    {
      "cell_type": "code",
      "source": [
        "data.head()"
      ],
      "metadata": {
        "colab": {
          "base_uri": "https://localhost:8080/",
          "height": 399
        },
        "id": "AzwguIa3N2rX",
        "outputId": "9bb2880d-0867-493c-9ed1-a5ddb040aabc"
      },
      "execution_count": 14,
      "outputs": [
        {
          "output_type": "execute_result",
          "data": {
            "text/plain": [
              "                                TranslatedRecipeName  \\\n",
              "0                               masala karela recipe   \n",
              "1                         spicy tomato rice  recipe    \n",
              "2  ragi semiya upma recipe   ragi millet vermicel...   \n",
              "3  gongura chicken curry recipe   andhra style go...   \n",
              "4  andhra style alam pachadi recipe   adrak chutn...   \n",
              "\n",
              "                               TranslatedIngredients  PrepTimeInMins  \\\n",
              "0  6 Karela (Bitter Gourd/ Pavakkai) - deseeded,S...              15   \n",
              "1  2-1 / 2 cups rice - cooked, 3 tomatoes, 3 teas...               5   \n",
              "2  1-1/2 cups Rice Vermicelli Noodles (Thin),1 On...              20   \n",
              "3  500 grams Chicken,2 Onion - chopped,1 Tomato -...              15   \n",
              "4  1 tablespoon chana dal, 1 tablespoon white ura...              10   \n",
              "\n",
              "   CookTimeInMins  TotalTimeInMins  Servings               Cuisine  \\\n",
              "0              30               45         6                indian   \n",
              "1              10               15         3  south indian recipes   \n",
              "2              30               50         4  south indian recipes   \n",
              "3              30               45         4                andhra   \n",
              "4              20               30         4                andhra   \n",
              "\n",
              "                   Course                     Diet  \\\n",
              "0               side dish        diabetic friendly   \n",
              "1             main course               vegetarian   \n",
              "2  south indian breakfast  high protein vegetarian   \n",
              "3                   lunch           non vegeterian   \n",
              "4  south indian breakfast               vegetarian   \n",
              "\n",
              "                              TranslatedInstructions  \\\n",
              "0  To begin making the Masala Karela Recipe,de-se...   \n",
              "1  To make tomato puliogere, first cut the tomato...   \n",
              "2  To begin making the Ragi Vermicelli Recipe, fi...   \n",
              "3  To begin making Gongura Chicken Curry Recipe f...   \n",
              "4  To make Andhra Style Alam Pachadi, first heat ...   \n",
              "\n",
              "                                                 URL  \n",
              "0  https://www.archanaskitchen.com/masala-karela-...  \n",
              "1  http://www.archanaskitchen.com/spicy-tomato-ri...  \n",
              "2  http://www.archanaskitchen.com/ragi-vermicelli...  \n",
              "3  http://www.archanaskitchen.com/gongura-chicken...  \n",
              "4  https://www.archanaskitchen.com/andhra-style-a...  "
            ],
            "text/html": [
              "\n",
              "  <div id=\"df-ea1a1e74-f697-4c85-8552-e8f65d6a6364\" class=\"colab-df-container\">\n",
              "    <div>\n",
              "<style scoped>\n",
              "    .dataframe tbody tr th:only-of-type {\n",
              "        vertical-align: middle;\n",
              "    }\n",
              "\n",
              "    .dataframe tbody tr th {\n",
              "        vertical-align: top;\n",
              "    }\n",
              "\n",
              "    .dataframe thead th {\n",
              "        text-align: right;\n",
              "    }\n",
              "</style>\n",
              "<table border=\"1\" class=\"dataframe\">\n",
              "  <thead>\n",
              "    <tr style=\"text-align: right;\">\n",
              "      <th></th>\n",
              "      <th>TranslatedRecipeName</th>\n",
              "      <th>TranslatedIngredients</th>\n",
              "      <th>PrepTimeInMins</th>\n",
              "      <th>CookTimeInMins</th>\n",
              "      <th>TotalTimeInMins</th>\n",
              "      <th>Servings</th>\n",
              "      <th>Cuisine</th>\n",
              "      <th>Course</th>\n",
              "      <th>Diet</th>\n",
              "      <th>TranslatedInstructions</th>\n",
              "      <th>URL</th>\n",
              "    </tr>\n",
              "  </thead>\n",
              "  <tbody>\n",
              "    <tr>\n",
              "      <th>0</th>\n",
              "      <td>masala karela recipe</td>\n",
              "      <td>6 Karela (Bitter Gourd/ Pavakkai) - deseeded,S...</td>\n",
              "      <td>15</td>\n",
              "      <td>30</td>\n",
              "      <td>45</td>\n",
              "      <td>6</td>\n",
              "      <td>indian</td>\n",
              "      <td>side dish</td>\n",
              "      <td>diabetic friendly</td>\n",
              "      <td>To begin making the Masala Karela Recipe,de-se...</td>\n",
              "      <td>https://www.archanaskitchen.com/masala-karela-...</td>\n",
              "    </tr>\n",
              "    <tr>\n",
              "      <th>1</th>\n",
              "      <td>spicy tomato rice  recipe</td>\n",
              "      <td>2-1 / 2 cups rice - cooked, 3 tomatoes, 3 teas...</td>\n",
              "      <td>5</td>\n",
              "      <td>10</td>\n",
              "      <td>15</td>\n",
              "      <td>3</td>\n",
              "      <td>south indian recipes</td>\n",
              "      <td>main course</td>\n",
              "      <td>vegetarian</td>\n",
              "      <td>To make tomato puliogere, first cut the tomato...</td>\n",
              "      <td>http://www.archanaskitchen.com/spicy-tomato-ri...</td>\n",
              "    </tr>\n",
              "    <tr>\n",
              "      <th>2</th>\n",
              "      <td>ragi semiya upma recipe   ragi millet vermicel...</td>\n",
              "      <td>1-1/2 cups Rice Vermicelli Noodles (Thin),1 On...</td>\n",
              "      <td>20</td>\n",
              "      <td>30</td>\n",
              "      <td>50</td>\n",
              "      <td>4</td>\n",
              "      <td>south indian recipes</td>\n",
              "      <td>south indian breakfast</td>\n",
              "      <td>high protein vegetarian</td>\n",
              "      <td>To begin making the Ragi Vermicelli Recipe, fi...</td>\n",
              "      <td>http://www.archanaskitchen.com/ragi-vermicelli...</td>\n",
              "    </tr>\n",
              "    <tr>\n",
              "      <th>3</th>\n",
              "      <td>gongura chicken curry recipe   andhra style go...</td>\n",
              "      <td>500 grams Chicken,2 Onion - chopped,1 Tomato -...</td>\n",
              "      <td>15</td>\n",
              "      <td>30</td>\n",
              "      <td>45</td>\n",
              "      <td>4</td>\n",
              "      <td>andhra</td>\n",
              "      <td>lunch</td>\n",
              "      <td>non vegeterian</td>\n",
              "      <td>To begin making Gongura Chicken Curry Recipe f...</td>\n",
              "      <td>http://www.archanaskitchen.com/gongura-chicken...</td>\n",
              "    </tr>\n",
              "    <tr>\n",
              "      <th>4</th>\n",
              "      <td>andhra style alam pachadi recipe   adrak chutn...</td>\n",
              "      <td>1 tablespoon chana dal, 1 tablespoon white ura...</td>\n",
              "      <td>10</td>\n",
              "      <td>20</td>\n",
              "      <td>30</td>\n",
              "      <td>4</td>\n",
              "      <td>andhra</td>\n",
              "      <td>south indian breakfast</td>\n",
              "      <td>vegetarian</td>\n",
              "      <td>To make Andhra Style Alam Pachadi, first heat ...</td>\n",
              "      <td>https://www.archanaskitchen.com/andhra-style-a...</td>\n",
              "    </tr>\n",
              "  </tbody>\n",
              "</table>\n",
              "</div>\n",
              "    <div class=\"colab-df-buttons\">\n",
              "\n",
              "  <div class=\"colab-df-container\">\n",
              "    <button class=\"colab-df-convert\" onclick=\"convertToInteractive('df-ea1a1e74-f697-4c85-8552-e8f65d6a6364')\"\n",
              "            title=\"Convert this dataframe to an interactive table.\"\n",
              "            style=\"display:none;\">\n",
              "\n",
              "  <svg xmlns=\"http://www.w3.org/2000/svg\" height=\"24px\" viewBox=\"0 -960 960 960\">\n",
              "    <path d=\"M120-120v-720h720v720H120Zm60-500h600v-160H180v160Zm220 220h160v-160H400v160Zm0 220h160v-160H400v160ZM180-400h160v-160H180v160Zm440 0h160v-160H620v160ZM180-180h160v-160H180v160Zm440 0h160v-160H620v160Z\"/>\n",
              "  </svg>\n",
              "    </button>\n",
              "\n",
              "  <style>\n",
              "    .colab-df-container {\n",
              "      display:flex;\n",
              "      gap: 12px;\n",
              "    }\n",
              "\n",
              "    .colab-df-convert {\n",
              "      background-color: #E8F0FE;\n",
              "      border: none;\n",
              "      border-radius: 50%;\n",
              "      cursor: pointer;\n",
              "      display: none;\n",
              "      fill: #1967D2;\n",
              "      height: 32px;\n",
              "      padding: 0 0 0 0;\n",
              "      width: 32px;\n",
              "    }\n",
              "\n",
              "    .colab-df-convert:hover {\n",
              "      background-color: #E2EBFA;\n",
              "      box-shadow: 0px 1px 2px rgba(60, 64, 67, 0.3), 0px 1px 3px 1px rgba(60, 64, 67, 0.15);\n",
              "      fill: #174EA6;\n",
              "    }\n",
              "\n",
              "    .colab-df-buttons div {\n",
              "      margin-bottom: 4px;\n",
              "    }\n",
              "\n",
              "    [theme=dark] .colab-df-convert {\n",
              "      background-color: #3B4455;\n",
              "      fill: #D2E3FC;\n",
              "    }\n",
              "\n",
              "    [theme=dark] .colab-df-convert:hover {\n",
              "      background-color: #434B5C;\n",
              "      box-shadow: 0px 1px 3px 1px rgba(0, 0, 0, 0.15);\n",
              "      filter: drop-shadow(0px 1px 2px rgba(0, 0, 0, 0.3));\n",
              "      fill: #FFFFFF;\n",
              "    }\n",
              "  </style>\n",
              "\n",
              "    <script>\n",
              "      const buttonEl =\n",
              "        document.querySelector('#df-ea1a1e74-f697-4c85-8552-e8f65d6a6364 button.colab-df-convert');\n",
              "      buttonEl.style.display =\n",
              "        google.colab.kernel.accessAllowed ? 'block' : 'none';\n",
              "\n",
              "      async function convertToInteractive(key) {\n",
              "        const element = document.querySelector('#df-ea1a1e74-f697-4c85-8552-e8f65d6a6364');\n",
              "        const dataTable =\n",
              "          await google.colab.kernel.invokeFunction('convertToInteractive',\n",
              "                                                    [key], {});\n",
              "        if (!dataTable) return;\n",
              "\n",
              "        const docLinkHtml = 'Like what you see? Visit the ' +\n",
              "          '<a target=\"_blank\" href=https://colab.research.google.com/notebooks/data_table.ipynb>data table notebook</a>'\n",
              "          + ' to learn more about interactive tables.';\n",
              "        element.innerHTML = '';\n",
              "        dataTable['output_type'] = 'display_data';\n",
              "        await google.colab.output.renderOutput(dataTable, element);\n",
              "        const docLink = document.createElement('div');\n",
              "        docLink.innerHTML = docLinkHtml;\n",
              "        element.appendChild(docLink);\n",
              "      }\n",
              "    </script>\n",
              "  </div>\n",
              "\n",
              "\n",
              "<div id=\"df-dde0682e-54ad-4398-9649-c993e70742c1\">\n",
              "  <button class=\"colab-df-quickchart\" onclick=\"quickchart('df-dde0682e-54ad-4398-9649-c993e70742c1')\"\n",
              "            title=\"Suggest charts\"\n",
              "            style=\"display:none;\">\n",
              "\n",
              "<svg xmlns=\"http://www.w3.org/2000/svg\" height=\"24px\"viewBox=\"0 0 24 24\"\n",
              "     width=\"24px\">\n",
              "    <g>\n",
              "        <path d=\"M19 3H5c-1.1 0-2 .9-2 2v14c0 1.1.9 2 2 2h14c1.1 0 2-.9 2-2V5c0-1.1-.9-2-2-2zM9 17H7v-7h2v7zm4 0h-2V7h2v10zm4 0h-2v-4h2v4z\"/>\n",
              "    </g>\n",
              "</svg>\n",
              "  </button>\n",
              "\n",
              "<style>\n",
              "  .colab-df-quickchart {\n",
              "      --bg-color: #E8F0FE;\n",
              "      --fill-color: #1967D2;\n",
              "      --hover-bg-color: #E2EBFA;\n",
              "      --hover-fill-color: #174EA6;\n",
              "      --disabled-fill-color: #AAA;\n",
              "      --disabled-bg-color: #DDD;\n",
              "  }\n",
              "\n",
              "  [theme=dark] .colab-df-quickchart {\n",
              "      --bg-color: #3B4455;\n",
              "      --fill-color: #D2E3FC;\n",
              "      --hover-bg-color: #434B5C;\n",
              "      --hover-fill-color: #FFFFFF;\n",
              "      --disabled-bg-color: #3B4455;\n",
              "      --disabled-fill-color: #666;\n",
              "  }\n",
              "\n",
              "  .colab-df-quickchart {\n",
              "    background-color: var(--bg-color);\n",
              "    border: none;\n",
              "    border-radius: 50%;\n",
              "    cursor: pointer;\n",
              "    display: none;\n",
              "    fill: var(--fill-color);\n",
              "    height: 32px;\n",
              "    padding: 0;\n",
              "    width: 32px;\n",
              "  }\n",
              "\n",
              "  .colab-df-quickchart:hover {\n",
              "    background-color: var(--hover-bg-color);\n",
              "    box-shadow: 0 1px 2px rgba(60, 64, 67, 0.3), 0 1px 3px 1px rgba(60, 64, 67, 0.15);\n",
              "    fill: var(--button-hover-fill-color);\n",
              "  }\n",
              "\n",
              "  .colab-df-quickchart-complete:disabled,\n",
              "  .colab-df-quickchart-complete:disabled:hover {\n",
              "    background-color: var(--disabled-bg-color);\n",
              "    fill: var(--disabled-fill-color);\n",
              "    box-shadow: none;\n",
              "  }\n",
              "\n",
              "  .colab-df-spinner {\n",
              "    border: 2px solid var(--fill-color);\n",
              "    border-color: transparent;\n",
              "    border-bottom-color: var(--fill-color);\n",
              "    animation:\n",
              "      spin 1s steps(1) infinite;\n",
              "  }\n",
              "\n",
              "  @keyframes spin {\n",
              "    0% {\n",
              "      border-color: transparent;\n",
              "      border-bottom-color: var(--fill-color);\n",
              "      border-left-color: var(--fill-color);\n",
              "    }\n",
              "    20% {\n",
              "      border-color: transparent;\n",
              "      border-left-color: var(--fill-color);\n",
              "      border-top-color: var(--fill-color);\n",
              "    }\n",
              "    30% {\n",
              "      border-color: transparent;\n",
              "      border-left-color: var(--fill-color);\n",
              "      border-top-color: var(--fill-color);\n",
              "      border-right-color: var(--fill-color);\n",
              "    }\n",
              "    40% {\n",
              "      border-color: transparent;\n",
              "      border-right-color: var(--fill-color);\n",
              "      border-top-color: var(--fill-color);\n",
              "    }\n",
              "    60% {\n",
              "      border-color: transparent;\n",
              "      border-right-color: var(--fill-color);\n",
              "    }\n",
              "    80% {\n",
              "      border-color: transparent;\n",
              "      border-right-color: var(--fill-color);\n",
              "      border-bottom-color: var(--fill-color);\n",
              "    }\n",
              "    90% {\n",
              "      border-color: transparent;\n",
              "      border-bottom-color: var(--fill-color);\n",
              "    }\n",
              "  }\n",
              "</style>\n",
              "\n",
              "  <script>\n",
              "    async function quickchart(key) {\n",
              "      const quickchartButtonEl =\n",
              "        document.querySelector('#' + key + ' button');\n",
              "      quickchartButtonEl.disabled = true;  // To prevent multiple clicks.\n",
              "      quickchartButtonEl.classList.add('colab-df-spinner');\n",
              "      try {\n",
              "        const charts = await google.colab.kernel.invokeFunction(\n",
              "            'suggestCharts', [key], {});\n",
              "      } catch (error) {\n",
              "        console.error('Error during call to suggestCharts:', error);\n",
              "      }\n",
              "      quickchartButtonEl.classList.remove('colab-df-spinner');\n",
              "      quickchartButtonEl.classList.add('colab-df-quickchart-complete');\n",
              "    }\n",
              "    (() => {\n",
              "      let quickchartButtonEl =\n",
              "        document.querySelector('#df-dde0682e-54ad-4398-9649-c993e70742c1 button');\n",
              "      quickchartButtonEl.style.display =\n",
              "        google.colab.kernel.accessAllowed ? 'block' : 'none';\n",
              "    })();\n",
              "  </script>\n",
              "</div>\n",
              "\n",
              "    </div>\n",
              "  </div>\n"
            ],
            "application/vnd.google.colaboratory.intrinsic+json": {
              "type": "dataframe",
              "variable_name": "data",
              "summary": "{\n  \"name\": \"data\",\n  \"rows\": 6865,\n  \"fields\": [\n    {\n      \"column\": \"TranslatedRecipeName\",\n      \"properties\": {\n        \"dtype\": \"string\",\n        \"num_unique_values\": 6836,\n        \"samples\": [\n          \" makki paneer pakora recipe\",\n          \"mexican cottage cheese chicken enchilada recipe\",\n          \"green pea pakoras recipe   green pea freighters\"\n        ],\n        \"semantic_type\": \"\",\n        \"description\": \"\"\n      }\n    },\n    {\n      \"column\": \"TranslatedIngredients\",\n      \"properties\": {\n        \"dtype\": \"string\",\n        \"num_unique_values\": 6857,\n        \"samples\": [\n          \"1 Carrot (Gajjar) - cubed,1 Potato (Aloo) - cubed,1/2 cup Green beans (French Beans) - chopped into \\u00bd inch size,1 Knol Khol (Ganth Gobi/kadam) - cubed,1/4 cup Green peas (Matar),1 Onion - chopped,1 Tomato - chopped,1/4 teaspoon Turmeric powder (Haldi),4 teaspoon Sunflower Oil - Ghee,1/4 teaspoon Mustard seeds,1/2 teaspoon White Urad Dal (Split),4 Curry leaves,Salt - to taste,1/2 cup Fresh coconut,1 inch Ginger - chopped,3 cloves Garlic,1 teaspoon Coriander (Dhania) Seeds,1/2 teaspoon Cumin seeds (Jeera),2 tablespoons Roasted Gram Dal (Pottukadalai),1 teaspoon Poppy seeds,2 Green Chillies,1/2 inch Cinnamon Stick (Dalchini),4 Cloves (Laung),1 Star anise,1 Cardamom (Elaichi) Pods/Seeds,1/4 cup Coriander (Dhania) Leaves,1/4 cup Mint Leaves (Pudina)\",\n          \"8 Chicken Wings,2 tablespoon Barbeque sauce,1/2 cup Whole Wheat Bread crumbs,1 teaspoon Chilli vinegar,1 inch Ginger - chopped,2 cloves Garlic - chopped,4 tablespoons Corn flour,1 Whole Egg,Salt and Pepper - to taste\",\n          \"1 Chicken breasts,1 teaspoon Black pepper powder,Salt - to taste,1 cup Cabbage (Patta Gobi/ Muttaikose) - shredded,1 Carrot (Gajjar) - grated,1 Red Bell pepper (Capsicum) - julienned,1 Whole Egg - boiled,2 sprig Coriander (Dhania) Leaves - chopped,1/4 cup Fresh orange juice,1/4 cup Extra Virgin Olive Oil,Salt and Pepper - for taste\"\n        ],\n        \"semantic_type\": \"\",\n        \"description\": \"\"\n      }\n    },\n    {\n      \"column\": \"PrepTimeInMins\",\n      \"properties\": {\n        \"dtype\": \"number\",\n        \"std\": 81,\n        \"min\": 0,\n        \"max\": 2880,\n        \"num_unique_values\": 86,\n        \"samples\": [\n          430,\n          15,\n          780\n        ],\n        \"semantic_type\": \"\",\n        \"description\": \"\"\n      }\n    },\n    {\n      \"column\": \"CookTimeInMins\",\n      \"properties\": {\n        \"dtype\": \"number\",\n        \"std\": 34,\n        \"min\": 0,\n        \"max\": 900,\n        \"num_unique_values\": 67,\n        \"samples\": [\n          780,\n          8,\n          45\n        ],\n        \"semantic_type\": \"\",\n        \"description\": \"\"\n      }\n    },\n    {\n      \"column\": \"TotalTimeInMins\",\n      \"properties\": {\n        \"dtype\": \"number\",\n        \"std\": 88,\n        \"min\": 0,\n        \"max\": 2925,\n        \"num_unique_values\": 167,\n        \"samples\": [\n          520,\n          149,\n          460\n        ],\n        \"semantic_type\": \"\",\n        \"description\": \"\"\n      }\n    },\n    {\n      \"column\": \"Servings\",\n      \"properties\": {\n        \"dtype\": \"number\",\n        \"std\": 26,\n        \"min\": 1,\n        \"max\": 1000,\n        \"num_unique_values\": 33,\n        \"samples\": [\n          240,\n          16,\n          24\n        ],\n        \"semantic_type\": \"\",\n        \"description\": \"\"\n      }\n    },\n    {\n      \"column\": \"Cuisine\",\n      \"properties\": {\n        \"dtype\": \"category\",\n        \"num_unique_values\": 82,\n        \"samples\": [\n          \"goan recipes\",\n          \"indian\",\n          \"middle eastern\"\n        ],\n        \"semantic_type\": \"\",\n        \"description\": \"\"\n      }\n    },\n    {\n      \"column\": \"Course\",\n      \"properties\": {\n        \"dtype\": \"category\",\n        \"num_unique_values\": 20,\n        \"samples\": [\n          \"side dish\",\n          \"brunch\",\n          \"eggetarian\"\n        ],\n        \"semantic_type\": \"\",\n        \"description\": \"\"\n      }\n    },\n    {\n      \"column\": \"Diet\",\n      \"properties\": {\n        \"dtype\": \"category\",\n        \"num_unique_values\": 10,\n        \"samples\": [\n          \"gluten free\",\n          \"vegetarian\",\n          \"eggetarian\"\n        ],\n        \"semantic_type\": \"\",\n        \"description\": \"\"\n      }\n    },\n    {\n      \"column\": \"TranslatedInstructions\",\n      \"properties\": {\n        \"dtype\": \"string\",\n        \"num_unique_values\": 6864,\n        \"samples\": [\n          \"To begin making the Crispy Potato Roses recipe, grease a muffin pan with some melted butter and set aside.Preheat oven to 200 degrees Celsius/400 degrees Fahrenheit. Wash and peel potatoes.Slice them using a mandolin slicer or vegetable peeler. Keep it aside.In a small bowl, combine the melted butter, Italian seasoning, garlic powder, salt and pepper. Mix well and keep aside.Arrange 10 to 12 potato slices partially-overlapped, lengthwise, in a row.Brush the row of potato slices with the seasoned butter.Starting with the first slice, roll carefully holding on to all the slices to get a beautiful rosebud.Place the rose in the cup of a muffin pan. (Make a rose that fits in your muffin pan).Make all the 5 roses and brush the tops with the remaining seasoned butter.Sprinkle some grated Parmesan on top of each rose.Bake for 30 to 35 minutes, until the edges turn brown and crisp, and the potatoes are cooked-through.Remove from oven and serve immediately with any dipping sauce of your choice.\\u00a0Serve Crispy Potato Roses along with\\u00a0Asparagus Guacamole\\u00a0Recipe as an appetiser for your family dinner or when you have guest at your home for dinner.\\n\",\n          \"To begin making the Bonda Mor Kuzhambu Recipe, we start with making the bonda.Wash and soak the urad dal for 2 hours, and then grind it along with ginger and green chilli to a smooth paste using a mixer grinder.Take out this batter in a bowl, season with salt and whisk it vigorously to attain a light texture.In the mean also soak the coriander seeds, toor dal and a died red chilli in water and keep aside.Heat enough oil in a frying pan on medium heat, and once the oil is hot enough, drop a spoon full of small balls of the bond batter into the oil and fry till golden brown as you would make the medu vada's.Remove, drain it on the kitchen absorbent paper and keep it aside.Likewise, prepare the bonda's with the remaining batter.Now, to make the mor kuzhambu take the soaked coriander seeds, toor dal and red chilli in a mixie jar and grind it to a smooth paste along with ginger and grated coconut.Take a bowl, whisk the curd to smooth texture, add the ground coconut mix to it, season with salt and whisk it together.Heat oil in a pan on medium heat, add mustard seeds, chana dal and let it crackle.Add the asafoetida, a dried red chilli and curry leaves and let it splutter.Add the sour curd and coconut mix to this, 2 to 3 cups of water and bring it to a boil.If the mor kuzhambu is too thick, add more water, adjust the seasoning and simmer for around 10 minutes.Once the Mor Kuzhambu is well cooked, add the prepared bonda's to it, bring it to a gentle boil and switch off the flame.Serve the Bonda Mor Kuzhambu Recipe along with Steamed Rice and\\u00a0Crispy Potato Fry\\u00a0for a delicious weeknight dinner or for the weekend brunch.\",\n          \"To begin making the\\u00a0 Penne Arrabbiata Pasta Recipe we first have to cook the pasta.In a large pot, add water and bring it to a boil. Once the water has boiled, add a teaspoon of salt.Add the pasta to the boiling water and let it cook in the boiling water until it is al dente ( just cooked). This process should take a good 12-15 minutes.Once the pasta has cooked, drain the water and run the cooked pasta under running water to stop the cooking process.Drizzle some oil on top of pasta and make sure to coat all of the pasta with the oil so that the pasta doesn't stick to each other.To make the Arrabiatta Pasta SaucePlace a pan on medium heat, add oil and garlic and onion and saute for a few seconds until the onions turn soft.Once the onions have softened, add the tomato puree, chilli flakes, mixed herbs, pounded black peppercorns, salt and sugar.Cook the arrabbiata sauce together for a few minutes till the the sauce comes together and you can smell the aromas in the air.\\u00a0Add the cooked Penne Pasta to the spicy arrabbiata sauce and keep mixing till the sauce thickens and pasta is well coated with the sauce.Once done, turn off the heat, check the salt and spices and adjust according to taste. Transfer the\\u00a0Penne Arrabbiata Pasta to a serving bowl. Finally sprinkle the parmesan cheese on the top and serve hot.Serve\\u00a0Penne Arrabbiata Pasta Recipe along with\\u00a0Thai Green Papaya Salad Recipe\\u00a0and a glass of wine for your weekend night dinner.\"\n        ],\n        \"semantic_type\": \"\",\n        \"description\": \"\"\n      }\n    },\n    {\n      \"column\": \"URL\",\n      \"properties\": {\n        \"dtype\": \"string\",\n        \"num_unique_values\": 6865,\n        \"samples\": [\n          \"http://www.archanaskitchen.com/karnataka-style-pudina-mavinkayi-chutney-recipe-mint-mango-chutney\",\n          \"https://www.archanaskitchen.com/mosdeng-serma-recipe-tripura-style-tomato-chutney-in-hindi\",\n          \"http://www.archanaskitchen.com/spicy-indian-style-onion-rings-recipe\"\n        ],\n        \"semantic_type\": \"\",\n        \"description\": \"\"\n      }\n    }\n  ]\n}"
            }
          },
          "metadata": {},
          "execution_count": 14
        }
      ]
    },
    {
      "cell_type": "code",
      "source": [
        "data['Diet'].value_counts()"
      ],
      "metadata": {
        "colab": {
          "base_uri": "https://localhost:8080/"
        },
        "id": "dIzfgzpzOA89",
        "outputId": "82c2f6b5-2605-4847-978e-53220caf7aca"
      },
      "execution_count": 15,
      "outputs": [
        {
          "output_type": "execute_result",
          "data": {
            "text/plain": [
              "Diet\n",
              "vegetarian                      4706\n",
              "high protein vegetarian          705\n",
              "non vegeterian                   427\n",
              "eggetarian                       344\n",
              "diabetic friendly                260\n",
              "high protein non vegetarian      225\n",
              "no onion no garlic  sattvic       73\n",
              "vegan                             61\n",
              "gluten free                       50\n",
              "sugar free diet                   14\n",
              "Name: count, dtype: int64"
            ]
          },
          "metadata": {},
          "execution_count": 15
        }
      ]
    },
    {
      "cell_type": "code",
      "source": [
        "data['Cuisine'].value_counts()"
      ],
      "metadata": {
        "colab": {
          "base_uri": "https://localhost:8080/"
        },
        "id": "g25q6O7mOJwX",
        "outputId": "d397ded0-9426-4bd8-f45c-ea85b16aa77d"
      },
      "execution_count": 16,
      "outputs": [
        {
          "output_type": "execute_result",
          "data": {
            "text/plain": [
              "Cuisine\n",
              "indian                  1157\n",
              "continental             1020\n",
              "north indian recipes     936\n",
              "south indian recipes     681\n",
              "italian recipes          235\n",
              "                        ... \n",
              "jewish                     1\n",
              "dessert                    1\n",
              "side dish                  1\n",
              "shandong                   1\n",
              "lunch                      1\n",
              "Name: count, Length: 82, dtype: int64"
            ]
          },
          "metadata": {},
          "execution_count": 16
        }
      ]
    },
    {
      "cell_type": "code",
      "source": [
        "data['Course'].value_counts()"
      ],
      "metadata": {
        "colab": {
          "base_uri": "https://localhost:8080/"
        },
        "id": "xv2Exn9jOOPC",
        "outputId": "02384359-8162-4106-9e96-4c688336e752"
      },
      "execution_count": 17,
      "outputs": [
        {
          "output_type": "execute_result",
          "data": {
            "text/plain": [
              "Course\n",
              "lunch                           1763\n",
              "side dish                        992\n",
              "snack                            876\n",
              "dinner                           781\n",
              "dessert                          659\n",
              "appetizer                        637\n",
              "main course                      315\n",
              "south indian breakfast           260\n",
              "world breakfast                  260\n",
              "north indian breakfast           122\n",
              "indian breakfast                 101\n",
              "vegetarian                        47\n",
              "one pot dish                      33\n",
              "high protein vegetarian            7\n",
              "brunch                             4\n",
              "vegan                              3\n",
              "non vegeterian                     2\n",
              "eggetarian                         1\n",
              "no onion no garlic  sattvic        1\n",
              "sugar free diet                    1\n",
              "Name: count, dtype: int64"
            ]
          },
          "metadata": {},
          "execution_count": 17
        }
      ]
    },
    {
      "cell_type": "code",
      "source": [
        "data.to_excel('/content/drive/MyDrive/MY PROJECTS/Indian Food Diet Chart chatbots/preprocessed data.xlsx')"
      ],
      "metadata": {
        "id": "plrbMgy8z1mr"
      },
      "execution_count": 18,
      "outputs": []
    },
    {
      "cell_type": "code",
      "source": [
        "# Load the DataFrame\n",
        "df = pd.read_excel('/content/drive/MyDrive/MY PROJECTS/Indian Food Diet Chart chatbots/preprocessed data.xlsx')\n",
        "\n",
        "# Define a function to check if a string contains Hindi characters\n",
        "def contains_hindi(text):\n",
        "    hindi_pattern = re.compile(r'[\\u0900-\\u097F]+')  # Hindi Unicode range\n",
        "    return bool(hindi_pattern.search(text))\n",
        "\n",
        "# Filter out rows containing Hindi text in the \"TranslatedIngredients\" column\n",
        "df = df[~df['TranslatedIngredients'].apply(contains_hindi)]\n",
        "df = df[~df['TranslatedInstructions'].apply(contains_hindi)]\n",
        "\n",
        "# Drop rows with NaN values in the \"TranslatedIngredients\" column\n",
        "df = df.dropna(subset=['TranslatedIngredients'])\n",
        "\n",
        "# Reset index\n",
        "df.reset_index(drop=True, inplace=True)\n",
        "\n",
        "# Save the cleaned DataFrame\n",
        "df.to_excel('/content/drive/MyDrive/MY PROJECTS/Indian Food Diet Chart chatbots/cleaned_data.xlsx', index=False)\n"
      ],
      "metadata": {
        "id": "UWTT0HUr9l5h"
      },
      "execution_count": 26,
      "outputs": []
    }
  ]
}